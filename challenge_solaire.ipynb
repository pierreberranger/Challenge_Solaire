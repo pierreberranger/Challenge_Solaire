{
 "cells": [
  {
   "cell_type": "markdown",
   "metadata": {},
   "source": [
    "# Challenge Solaire"
   ]
  },
  {
   "cell_type": "markdown",
   "metadata": {},
   "source": [
    "## Imports"
   ]
  },
  {
   "cell_type": "code",
   "execution_count": null,
   "metadata": {},
   "outputs": [],
   "source": [
    "import pandas as pd\n",
    "import wget as wg\n",
    "import numpy as np\n",
    "import datetime\n",
    "import os\n",
    "import sklearn as sk\n",
    "from pandas.plotting import scatter_matrix\n",
    "import matplotlib.pyplot as plt\n"
   ]
  },
  {
   "cell_type": "markdown",
   "metadata": {},
   "source": [
    "## Telechargement des données"
   ]
  },
  {
   "cell_type": "code",
   "execution_count": null,
   "metadata": {},
   "outputs": [],
   "source": [
    "url = \"https://gml.noaa.gov/aftp/data/radiation/surfrad/Boulder_CO/\"\n",
    "years = [\"2019\", \"2020\", \"2021\", \"2022\"]\n",
    "days = [f'{i:03d}' for i in range(1, 366)]\n",
    "for year in years:\n",
    "    for day in days:\n",
    "        try :\n",
    "            wg.download(f\"https://gml.noaa.gov/aftp/data/radiation/surfrad/Boulder_CO/{year}/tbl{year[2:]}{day}.dat\")\n",
    "        except Exception as e :\n",
    "            print(e)"
   ]
  },
  {
   "cell_type": "markdown",
   "metadata": {},
   "source": [
    "## Construire des données propres"
   ]
  },
  {
   "cell_type": "code",
   "execution_count": null,
   "metadata": {},
   "outputs": [],
   "source": [
    "def convert(x: str) -> float:\n",
    "    [value, indicator] = x.split(\" \")\n",
    "    if indicator == \"1\":\n",
    "        return np.nan\n",
    "    else: \n",
    "        return float(value)\n",
    "    \n",
    "def convert_to_nan(x: str) -> float:\n",
    "    if x:\n",
    "        return np.nan\n",
    "    else:\n",
    "        return float(x)\n",
    "def get_time(df :pd.DataFrame) -> pd.Series:\n",
    "    return"
   ]
  },
  {
   "cell_type": "code",
   "execution_count": null,
   "metadata": {},
   "outputs": [],
   "source": [
    "def convert_date(year, year_day, month, day, hour, minute):\n",
    "    return datetime.datetime(year, month, day, hour, minute)"
   ]
  },
  {
   "cell_type": "code",
   "execution_count": null,
   "metadata": {},
   "outputs": [],
   "source": [
    "col_names = [ \"Date\", \"zen\", \"dw_solar\", \"uw_solar\", \"direct_n\", \"diffuse\", \"dw_ir\", \"dw_casetemp\", \"dw_dometemp\", \"uw_ir\", \"uw_casetemp\", \"uw_dometemp\", \"uvb\", \"par\", \"netsolar\", \"netir\", \"totalnet\", \"temp\", \"rh\", \"windspd\", \"winddir\", \"pressure\"]\n"
   ]
  },
  {
   "cell_type": "code",
   "execution_count": null,
   "metadata": {},
   "outputs": [],
   "source": [
    "def get_clean_df(path: str):\n",
    "    df = pd.read_csv(path, skiprows=2, delim_whitespace=True)     \n",
    "    columns = [pd.Series([tuple(df.iloc[i, 0:6].map(lambda x : int(x))) for i in range(len(df))]).map(lambda x : convert_date(*x)), df.iloc[:,7]]\n",
    "    for i in range(8, len(df.columns), 2):\n",
    "        columns.append(df.iloc[:,i] + df.iloc[:,i+1].map(convert_to_nan))\n",
    "    df_final = pd.concat(tuple(columns), axis=1 )\n",
    "    df_final.columns = col_names\n",
    "    df_final.set_index(\"Date\", inplace=True)\n",
    "    df_final.dropna(how=\"any\", inplace=True)\n",
    "    print(path)\n",
    "    return df_final"
   ]
  },
  {
   "cell_type": "code",
   "execution_count": null,
   "metadata": {},
   "outputs": [],
   "source": [
    "path = r\"C:\\Users\\XAVIER\\Documents\\Data Sophia\\Challenge_Solaire\"\n",
    "files = [ el for el in os.listdir(path) if el.split(\".\")[-1] == \"dat\"]\n",
    "df = pd.concat([get_clean_df(f\"{path}\\\\{el}\")for el in files])\n"
   ]
  },
  {
   "cell_type": "code",
   "execution_count": null,
   "metadata": {},
   "outputs": [],
   "source": [
    "df_final = df.dropna(how=\"any\")\n",
    "df_final = df_final.resample(\"3600S\").mean()\n",
    "df_final.index = df_final.index.map(lambda x : x - datetime.timedelta(0, 3600, 0))\n",
    "df_final.to_csv(\"cleaned_data.csv\")\n"
   ]
  },
  {
   "cell_type": "markdown",
   "metadata": {},
   "source": [
    "## Analyse de données"
   ]
  },
  {
   "cell_type": "markdown",
   "metadata": {},
   "source": [
    "mettre des plots et des scatters"
   ]
  },
  {
   "cell_type": "code",
   "execution_count": null,
   "metadata": {},
   "outputs": [],
   "source": [
    "df_cleaned = pd.read_csv(\"cleaned_data.csv\")\n",
    "df_cleaned[\"Date\"] = df_cleaned[\"Date\"].map(lambda x : datetime.datetime.strptime(x, \"%Y-%m-%d %H:%M:%S\"))\n",
    "df_cleaned.set_index(\"Date\", inplace=True)\n",
    "df_cleaned"
   ]
  },
  {
   "cell_type": "code",
   "execution_count": null,
   "metadata": {},
   "outputs": [],
   "source": [
    "scatter_matrix(df_cleaned, alpha=0.5, s=60,\n",
    "               figsize=(20, 20));"
   ]
  },
  {
   "cell_type": "markdown",
   "metadata": {},
   "source": [
    "## Ecart au solaire"
   ]
  },
  {
   "cell_type": "markdown",
   "metadata": {},
   "source": []
  },
  {
   "cell_type": "code",
   "execution_count": null,
   "metadata": {},
   "outputs": [],
   "source": [
    "df_mcclear = pd.read_csv(\"mcclear.csv\", skiprows=37, encoding=\"utf8\", sep=\";\")\n",
    "df_mcclear[\"Observation period\"] = df_mcclear[\"Observation period\"].map(lambda x : datetime.datetime.strptime(x.split(\"/\")[-1], \"%Y-%m-%dT%H:%M:%S.%f\"))\n",
    "df_mcclear.set_index(\"Observation period\", inplace=True)\n",
    "df_mcclear.head(30)"
   ]
  },
  {
   "cell_type": "markdown",
   "metadata": {},
   "source": [
    "TOA: Irradiation on horizontal plane at the top of atmosphere (Wh/m2) computed from Solar Geometry 2\n",
    "\n",
    "Clear sky GHI: Clear sky global irradiation on horizontal plane at ground level (Wh/m2)\n",
    "\n",
    "Clear sky BHI: Clear sky beam irradiation on horizontal plane at ground level (Wh/m2)\n",
    "\n",
    "Clear sky DHI: Clear sky diffuse irradiation on horizontal plane at ground level (Wh/m2)\n",
    "\n",
    "Clear sky BNI: Clear sky beam irradiation on mobile plane following the sun at normal incidence (Wh/m2)"
   ]
  },
  {
   "cell_type": "code",
   "execution_count": null,
   "metadata": {},
   "outputs": [],
   "source": [
    "df_global = pd.concat([df_cleaned, df_mcclear], axis=1).dropna(how=\"any\")\n",
    "df_global"
   ]
  },
  {
   "cell_type": "code",
   "execution_count": null,
   "metadata": {},
   "outputs": [],
   "source": [
    "df_global = df_global[df_global['TOA'] >= 50]\n",
    "df_global['cor_uvb'] = df_global['dw_solar']/df_global['TOA']\n",
    "plt.plot(df_global['dw_solar'])\n",
    "plt.show()\n",
    "plt.plot(df_global['cor_uvb'])\n",
    "plt.show()"
   ]
  },
  {
   "cell_type": "markdown",
   "metadata": {},
   "source": [
    "## Création de jeu de tests/apprentissage"
   ]
  },
  {
   "cell_type": "markdown",
   "metadata": {},
   "source": []
  },
  {
   "cell_type": "code",
   "execution_count": null,
   "metadata": {},
   "outputs": [],
   "source": []
  },
  {
   "cell_type": "markdown",
   "metadata": {},
   "source": [
    "## Prédiction"
   ]
  },
  {
   "cell_type": "markdown",
   "metadata": {},
   "source": []
  },
  {
   "cell_type": "code",
   "execution_count": null,
   "metadata": {},
   "outputs": [],
   "source": []
  },
  {
   "cell_type": "markdown",
   "metadata": {},
   "source": [
    "## Conclusion"
   ]
  },
  {
   "cell_type": "markdown",
   "metadata": {},
   "source": []
  }
 ],
 "metadata": {
  "kernelspec": {
   "display_name": "Python 3 (ipykernel)",
   "language": "python",
   "name": "python3"
  },
  "language_info": {
   "codemirror_mode": {
    "name": "ipython",
    "version": 3
   },
   "file_extension": ".py",
   "mimetype": "text/x-python",
   "name": "python",
   "nbconvert_exporter": "python",
   "pygments_lexer": "ipython3",
   "version": "3.9.12"
  },
  "vscode": {
   "interpreter": {
    "hash": "5b0b15605440be6b1de23cd5672288ebfe717ea88f515fd3b9b95d3437f54dff"
   }
  }
 },
 "nbformat": 4,
 "nbformat_minor": 2
}
